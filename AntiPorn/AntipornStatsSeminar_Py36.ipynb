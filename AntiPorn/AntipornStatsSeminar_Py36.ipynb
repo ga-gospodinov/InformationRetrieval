{
 "cells": [
  {
   "cell_type": "markdown",
   "metadata": {},
   "source": [
    "# ** Описание **"
   ]
  },
  {
   "cell_type": "raw",
   "metadata": {},
   "source": [
    "Ссылка на соревнование:\n",
    "https://kaggle.com/join/antoporn_bayes\n",
    "Ссылка на данные:\n",
    "https://inclass.kaggle.com/c/antiporn-infopoisk/data\n",
    "\n",
    "Нужно набрать больше 0.89, чтобы получить +1 балл к следующему ДЗ\n",
    "и 0.9, чтобы получить +2 балла"
   ]
  },
  {
   "cell_type": "markdown",
   "metadata": {},
   "source": [
    "$$P(AB)=P(A|B)P(B)=P(B|A)P(A)$$\n",
    "$$P(A|B)=\\frac{P(B|A)P(A)}{P(B)}$$\n",
    "$$P(C|D)=\\frac{P(D|C)P(C)}{P(D)}=\\frac{P(x_1..x_n|C)P(C)}{P(D)}$$\n",
    "Наивность заключается в том, что мы считаем все слова(признаки) независимыми между собой\n",
    "$$P(x_1..x_n|C)=\\prod_{i}^{n}P(x_i|C)$$"
   ]
  },
  {
   "cell_type": "markdown",
   "metadata": {},
   "source": [
    "Соответственно тогда, вероятности того, что документ принадлежит каждому классу можно записат следующим образом"
   ]
  },
  {
   "cell_type": "markdown",
   "metadata": {},
   "source": [
    "$$P(C|D)=\\frac{\\prod_{i}^{n}P(x_i|C)P(C)}{P(D)}$$\n",
    "$$P(\\neg C|D)=\\frac{\\prod_{i}^{n}P(x_i|\\neg C)P(\\neg C)}{P(D)}$$"
   ]
  },
  {
   "cell_type": "markdown",
   "metadata": {},
   "source": [
    "Если поделить две эти вероятности, то мы сократим общие члены и упростим формулу"
   ]
  },
  {
   "cell_type": "markdown",
   "metadata": {},
   "source": [
    "$$\\frac{P(C|D)}{P(\\neg C|D)}=\\frac{\\prod_{i}^{n}P(x_i|C)P(C)}{\\prod_{i}^{n}P(x_i|\\neg C)P(\\neg C)}$$\n",
    "$$ln\\frac{P(C|D)}{P(\\neg C|D)}=ln\\frac{P(C)}{P(\\neg C)}+\\sum_{i}^{n}ln\\frac{P(x_i|C)}{P(x_i|\\neg C)}=$$\n",
    "$$ln\\frac{P(C)}{P(\\neg C)}+\\sum_{i}^{n}ln\\frac{classCfreqX_i}{classNotCfreqX_i}$$\n",
    "$$P(x_i|C)=classCfreqX_i/total$$\n",
    "$$P(x_i|\\neg C)=classNotCfreqX_i/total$$\n",
    "$$ln\\frac{P(C)}{P(\\neg C)} = const$$\n",
    "$$P(C|D) + P(\\neg C|D) = 1$$"
   ]
  },
  {
   "cell_type": "code",
   "execution_count": 1,
   "metadata": {},
   "outputs": [],
   "source": [
    "import base64\n",
    "import csv\n",
    "import gzip\n",
    "import zlib\n",
    "import random\n",
    "\n",
    "from collections import namedtuple\n",
    "from collections import Counter\n",
    "\n",
    "%matplotlib inline\n",
    "import matplotlib.pyplot as plt"
   ]
  },
  {
   "cell_type": "code",
   "execution_count": 2,
   "metadata": {},
   "outputs": [],
   "source": [
    "TRACE_NUM = 500\n",
    "from importlib import reload\n",
    "import logging\n",
    "reload(logging)\n",
    "logging.basicConfig(format='%(asctime)s %(levelname)s:%(message)s', level=logging.INFO, datefmt='%H:%M:%S')\n",
    "\n",
    "def trace(items_num, trace_num=TRACE_NUM):\n",
    "    if items_num % trace_num == 0: logging.info(\"Complete items %05d\" % items_num)"
   ]
  },
  {
   "cell_type": "markdown",
   "metadata": {},
   "source": [
    "### Утилиты"
   ]
  },
  {
   "cell_type": "markdown",
   "metadata": {},
   "source": [
    "#### Декораторы"
   ]
  },
  {
   "cell_type": "code",
   "execution_count": 3,
   "metadata": {},
   "outputs": [],
   "source": [
    "def to_utf8(text):\n",
    "    if isinstance(text, str): text = text.encode('utf8')\n",
    "    return text\n",
    "\n",
    "def convert2unicode(f):\n",
    "    def tmp(text):\n",
    "        if not isinstance(text, str): text = text.decode('utf8')\n",
    "        return f(text)\n",
    "    return tmp\n",
    "\n",
    "def convert2lower(f):\n",
    "    def tmp(text):        \n",
    "        return f(text.lower())\n",
    "    return tmp\n",
    "\n",
    "#P.S. Декораторы могут усложнять отладку, так что от них вполне можно отказаться и воспользоваться copy-paste"
   ]
  },
  {
   "cell_type": "markdown",
   "metadata": {},
   "source": [
    "### Извлечение текста из html"
   ]
  },
  {
   "cell_type": "markdown",
   "metadata": {},
   "source": [
    "#### Извлечение текста при помощи встроенных модулей"
   ]
  },
  {
   "cell_type": "code",
   "execution_count": 4,
   "metadata": {},
   "outputs": [],
   "source": [
    "from html.parser import HTMLParser\n",
    "import re\n",
    "\n",
    "###Извлечение текста из title можно вписать сюда\n",
    "\n",
    "class TextHTMLParser(HTMLParser):\n",
    "    def __init__(self):\n",
    "        HTMLParser.__init__(self)\n",
    "        self._text = []\n",
    "        self._title = \"\"\n",
    "        self._in_title = False\n",
    "\n",
    "    def handle_data(self, data):\n",
    "        text = data.strip()\n",
    "        if len(text) > 0:\n",
    "            text = re.sub('[ \\t\\r\\n]+', ' ', text)\n",
    "            self._text.append(text + ' ')\n",
    "\n",
    "    def handle_starttag(self, tag, attrs):\n",
    "        if tag == 'p':\n",
    "            self._text.append('\\n\\n')\n",
    "        elif tag == 'br':\n",
    "            self._text.append('\\n')\n",
    "        elif tag == 'title':\n",
    "            self._in_title = True\n",
    "\n",
    "    def handle_startendtag(self, tag, attrs):\n",
    "        if tag == 'br':\n",
    "            self._text.append('\\n\\n')\n",
    "\n",
    "    def text(self):\n",
    "        return ''.join(self._text).strip()\n",
    "\n",
    "@convert2unicode\n",
    "def html2text_parser(text):\n",
    "    parser = TextHTMLParser()\n",
    "    parser.feed(text)\n",
    "    return parser.text()"
   ]
  },
  {
   "cell_type": "markdown",
   "metadata": {},
   "source": [
    "#### Извлечение текста при помощи дополнительных библиотек"
   ]
  },
  {
   "cell_type": "code",
   "execution_count": 5,
   "metadata": {},
   "outputs": [],
   "source": [
    "def html2text_bs(raw_html):\n",
    "    from bs4 import BeautifulSoup\n",
    "    \"\"\"\n",
    "    Тут производится извлечения из html текста\n",
    "    \"\"\"\n",
    "    soup = BeautifulSoup(raw_html, \"html.parser\")\n",
    "    [s.extract() for s in soup(['script', 'style'])]\n",
    "    return soup.get_text()\n",
    "\n",
    "def html2text_bs_visible(raw_html):\n",
    "    from bs4 import BeautifulSoup\n",
    "    \"\"\"\n",
    "    Тут производится извлечения из html текста, который видим пользователю\n",
    "    \"\"\"\n",
    "    soup = BeautifulSoup(raw_html, \"html.parser\")    \n",
    "    [s.extract() for s in soup(['style', 'script', '[document]', 'head', 'title'])]\n",
    "    return soup.get_text()\n",
    "\n",
    "def html2text_boilerpipe(raw_html):\n",
    "    import boilerpipe\n",
    "    \"\"\"\n",
    "    еще одна библиотека очень хорошо извлекающая именно видимый пользователю текст,\n",
    "    но она завязана на java\n",
    "    \"\"\"\n",
    "    pass"
   ]
  },
  {
   "cell_type": "markdown",
   "metadata": {},
   "source": [
    "#### Выбираем какой метод для конвертации html в текст будет основным"
   ]
  },
  {
   "cell_type": "code",
   "execution_count": 6,
   "metadata": {},
   "outputs": [],
   "source": [
    "html2text = html2text_bs\n",
    "#html2text = html2text_parser"
   ]
  },
  {
   "cell_type": "markdown",
   "metadata": {},
   "source": [
    "#### Методы для токенизации текста"
   ]
  },
  {
   "cell_type": "code",
   "execution_count": 7,
   "metadata": {},
   "outputs": [],
   "source": [
    "@convert2lower\n",
    "@convert2unicode\n",
    "def easy_tokenizer(text):\n",
    "    word = str()\n",
    "    for symbol in text:\n",
    "        if symbol.isalnum(): word += symbol\n",
    "        elif word:\n",
    "            yield word\n",
    "            word = str()\n",
    "    if word: yield word\n",
    "\n",
    "PYMORPHY_CACHE = {}\n",
    "MORPH = None\n",
    "#hint, чтобы установка pymorphy2 не была бы обязательной\n",
    "def get_lemmatizer():\n",
    "    import pymorphy2\n",
    "    global MORPH\n",
    "    if MORPH is None: MORPH = pymorphy2.MorphAnalyzer()\n",
    "    return MORPH\n",
    "\n",
    "@convert2lower\n",
    "@convert2unicode\n",
    "def pymorphy_tokenizer(text):\n",
    "    global PYMORPHY_CACHE\n",
    "    for word in easy_tokenizer(text):\n",
    "        word_hash = hash(word)\n",
    "        if word_hash not in PYMORPHY_CACHE:\n",
    "            PYMORPHY_CACHE[word_hash] = get_lemmatizer().parse(word)[0].normal_form            \n",
    "        yield PYMORPHY_CACHE[word_hash]"
   ]
  },
  {
   "cell_type": "markdown",
   "metadata": {},
   "source": [
    "#### Основная функция, которая вызывается для преобразования html в список слов"
   ]
  },
  {
   "cell_type": "code",
   "execution_count": 8,
   "metadata": {},
   "outputs": [],
   "source": [
    "def html2word(raw_html, to_text=html2text, tokenizer=easy_tokenizer):\n",
    "    return tokenizer(to_text(raw_html).lower())"
   ]
  },
  {
   "cell_type": "markdown",
   "metadata": {},
   "source": [
    "#### Рассчет финальных метрик"
   ]
  },
  {
   "cell_type": "code",
   "execution_count": 9,
   "metadata": {},
   "outputs": [],
   "source": [
    "def safe_divide(a, b):\n",
    "    if a == 0: return 0.0\n",
    "    elif b == 0: return 0.0\n",
    "    else: return a/b\n",
    "\n",
    "def calculate_metrics(predictions, threshold):    \n",
    "    \"\"\"\n",
    "    Функция подсчета метрик\n",
    "    Параметры\n",
    "    predictions - ранки по документам\n",
    "    threshold  - порог для метрик\n",
    "    \"\"\"\n",
    "    true_positive = 0\n",
    "    false_positive = 0\n",
    "    true_negative = 0\n",
    "    false_negative = 0\n",
    "    for (url_id, mark, url, prediction) in predictions:        \n",
    "        mark_predict = prediction > threshold\n",
    "\n",
    "        if mark_predict:                     \n",
    "            if mark_predict == mark: true_positive += 1\n",
    "            else: false_positive += 1                    \n",
    "        else:                     \n",
    "            if  mark_predict == mark: true_negative += 1\n",
    "            else: false_negative += 1\n",
    "\n",
    "    class_prec  = safe_divide(true_positive, true_positive + false_positive)\n",
    "    class_recall = safe_divide(true_positive, true_positive + false_negative)\n",
    "        \n",
    "    class_F1 = safe_divide(2 * class_prec * class_recall, class_prec + class_recall)\n",
    "    \n",
    "    \n",
    "    not_class_prec = safe_divide(true_negative, true_negative + false_negative)\n",
    "    not_class_recall = safe_divide(true_negative, true_negative + false_positive)\n",
    "    \n",
    "    not_class_F1 = safe_divide(2 * not_class_prec * not_class_recall, not_class_prec + not_class_recall)\n",
    "    \n",
    "    return ( (class_prec, class_recall, class_F1), (not_class_prec, not_class_recall, not_class_F1) )\n",
    "\n",
    "def arange(start, stop, step):\n",
    "    cur_value = start\n",
    "    while True:\n",
    "        if cur_value > stop: break\n",
    "        yield cur_value\n",
    "        cur_value += step\n",
    "\n",
    "def plot_results(docs, min_threshold=-1, max_threshold=1, step=0.1, trace=False, plot=False):\n",
    "    x = []\n",
    "    y_p = []\n",
    "    y_n = []\n",
    "    avgF1 = []\n",
    "    docs_predictions = classifier.predict_all(docs)\n",
    "    for threshold in arange(min_threshold, max_threshold, step):\n",
    "        r = calculate_metrics(docs_predictions, threshold)\n",
    "        x.append(threshold)\n",
    "        y_p.append(r[0])\n",
    "        y_n.append(r[1])\n",
    "        avgF1.append((r[0][2] + r[1][2]) / 2.0)\n",
    "        if trace: \n",
    "            print('threshold %s' % threshold)\n",
    "            print('\\tclass_prec %s, class_recall %s, class_F1 %s' % r[0])\n",
    "            print('\\tnot_class_prec %s, not_class_recall %s, not_class_F1 %s' % r[1])\n",
    "            print('\\t\\tMacroF1Mesure %s' % ((r[0][2] + r[1][2])/2))\n",
    "    if plot:\n",
    "        plot_stats(x, y_p, \"Class Result\")\n",
    "        plot_stats(x, y_n, \"Not class Result\")\n",
    "    \n",
    "    return avgF1\n",
    "\n",
    "\n",
    "def plot_stats(x, y, title):\n",
    "    plt.figure(figsize=(10, 5))\n",
    "\n",
    "    prec, = plt.plot( x, \n",
    "                     [k[0] for k in y], \"r\", label='Precision', \n",
    "                     linewidth=1)\n",
    "    accur, = plt.plot( x, \n",
    "                      [k[1] for k in y], \"b\", label='Recall',\n",
    "                      linewidth=1)\n",
    "    f1, =    plt.plot( x, \n",
    "                      [k[2] for k in y], \"g\", label='F1',\n",
    "                      linewidth=1)\n",
    "    plt.grid(True)\n",
    "    plt.legend(handles=[prec, accur, f1])\n",
    "    plt.title(title)\n",
    "    plt.show()"
   ]
  },
  {
   "cell_type": "code",
   "execution_count": 10,
   "metadata": {},
   "outputs": [
    {
     "name": "stdout",
     "output_type": "stream",
     "text": [
      "заголовок\n",
      "ololo\n",
      "спам\n",
      "1\n",
      "2\n",
      "3\n"
     ]
    }
   ],
   "source": [
    "test_html_data = u'''\n",
    "<html>\n",
    "<title> Заголовок Ololo </title>\n",
    "спам 1 2 3\n",
    "</html>\n",
    "'''\n",
    "test_url = 'http://ololo'\n",
    "test_words = list(html2word(test_html_data))\n",
    "for word in test_words:\n",
    "    print(word)"
   ]
  },
  {
   "cell_type": "code",
   "execution_count": 11,
   "metadata": {},
   "outputs": [],
   "source": [
    "DocItem = namedtuple('DocItem', ['doc_id', 'is_class', 'url', 'words'])\n",
    "\n",
    "def load_csv(input_file_name):    \n",
    "    \"\"\"\n",
    "    Загружаем данные и извлекаем на лету слова\n",
    "    Сам контент не сохраняется, чтобы уменьшить потребление памяти - чтобы\n",
    "    можно было запускать даже на ноутбуках в классе\n",
    "    \"\"\"\n",
    "    \n",
    "    with gzip.open(input_file_name) if input_file_name.endswith('gz') else open(input_file_name) as input_file:            \n",
    "        headers = input_file.readline()\n",
    "        \n",
    "        for i, line in enumerate(input_file):\n",
    "            trace(i)\n",
    "            parts = line.decode().strip().split('\\t')\n",
    "            url_id = int(parts[0])                                        \n",
    "            mark = bool(int(parts[1]))                    \n",
    "            url = parts[2]\n",
    "            pageInb64 = parts[3]\n",
    "            html_data = base64.b64decode(pageInb64)\n",
    "            words = list(html2word(html_data))\n",
    "            yield DocItem(url_id, mark, url, words)            \n",
    "                \n",
    "        trace(i, 1)        "
   ]
  },
  {
   "cell_type": "markdown",
   "metadata": {},
   "source": [
    "** Обрабатываем входной файл **\n",
    "<br>\n",
    "Формат - поля разделенные табуляциями\n",
    "<br>\n",
    "0 - идентификатор документа\n",
    "<br>\n",
    "1 - метка класса 0 - не порно, 1 - порно\n",
    "<br>\n",
    "2 - урл документа\n",
    "<br>\n",
    "3 - документ в кодировке base64\n",
    "\n",
    "Выходной формат - массив кортежей вида\n",
    "(doc_id, is_class, url, html_data)"
   ]
  },
  {
   "cell_type": "code",
   "execution_count": 12,
   "metadata": {
    "scrolled": true
   },
   "outputs": [
    {
     "name": "stderr",
     "output_type": "stream",
     "text": [
      "21:15:58 INFO:Complete items 00000\n",
      "21:18:24 INFO:Complete items 00500\n",
      "21:20:43 INFO:Complete items 01000\n",
      "21:22:24 INFO:Complete items 01500\n",
      "21:23:59 INFO:Complete items 02000\n",
      "21:25:57 INFO:Complete items 02500\n",
      "21:27:40 INFO:Complete items 03000\n",
      "21:28:09 INFO:Complete items 03138\n"
     ]
    }
   ],
   "source": [
    "TRAIN_DATA_FILE  = 'kaggle_train_data_tab.csv.gz'\n",
    "train_docs = list(load_csv(TRAIN_DATA_FILE))"
   ]
  },
  {
   "cell_type": "markdown",
   "metadata": {},
   "source": [
    "** Классификатор: **\n",
    "Нужно реализовать"
   ]
  },
  {
   "cell_type": "code",
   "execution_count": 14,
   "metadata": {},
   "outputs": [],
   "source": [
    "from collections import Counter\n",
    "from nltk.corpus import stopwords\n",
    "import nltk\n",
    "from nltk import ngrams\n",
    "from nltk.stem import PorterStemmer\n",
    "from nltk.stem.snowball import SnowballStemmer\n",
    "import math"
   ]
  },
  {
   "cell_type": "code",
   "execution_count": 15,
   "metadata": {},
   "outputs": [],
   "source": [
    "stem = SnowballStemmer(\"russian\")"
   ]
  },
  {
   "cell_type": "code",
   "execution_count": 16,
   "metadata": {},
   "outputs": [
    {
     "data": {
      "text/plain": [
       "'приветств'"
      ]
     },
     "execution_count": 16,
     "metadata": {},
     "output_type": "execute_result"
    }
   ],
   "source": [
    "stem.stem('приветствую')"
   ]
  },
  {
   "cell_type": "code",
   "execution_count": 18,
   "metadata": {},
   "outputs": [],
   "source": [
    "def dict_cleaner(word_count_dict, f_min, f_max, min_len=0, max_len=20,\n",
    "                 porn=False, porn_words=['порно']):\n",
    "    for word in list(word_count_dict.keys()):\n",
    "            if porn and word in porn_words:\n",
    "                continue\n",
    "            elif len(word) < min_len or len(word) > max_len:\n",
    "                del word_count_dict[word]\n",
    "            elif word_count_dict[word] > f_max or word_count_dict[word] < f_min:\n",
    "                del word_count_dict[word]\n",
    "            elif word.isdecimal():\n",
    "                del word_count_dict[word]"
   ]
  },
  {
   "cell_type": "code",
   "execution_count": 19,
   "metadata": {},
   "outputs": [],
   "source": [
    "# оптимальные параметры для ngram найти не получилось, работало дольше и хуже\n",
    "class ngramsClassifier:\n",
    "    \n",
    "    def __init__(self, n=5):\n",
    "        self.bad_words = Counter()\n",
    "        self.good_words = Counter()\n",
    "        self.log_dict = Counter()\n",
    "        self.n = n\n",
    "\n",
    "    def predict(self, doc):\n",
    "        sign = 0.0\n",
    "        length = 0.0\n",
    "        bad_words_freq = 0.0\n",
    "        good_words_freq = 0.0\n",
    "        word_counts = len(doc.words)\n",
    "        doc_words = ' '.join(doc.words)\n",
    "        for grams in ngrams(doc_words, self.n):\n",
    "            word = ''.join(grams)\n",
    "            if word in self.log_dict:\n",
    "                sign += self.log_dict[word]\n",
    "                length += 1.0\n",
    "            elif word in self.bad_words:\n",
    "                bad_words_freq += 1\n",
    "            elif word in self.good_words:\n",
    "                good_words_freq += 1\n",
    "        if length > 0.0:\n",
    "            return sign / length + math.log((bad_words_freq + 1e-6) / (good_words_freq + 1e-6)) / word_counts\n",
    "        return math.log((bad_words_freq + 1e-6) / (good_words_freq + 1e-6)) / word_counts\n",
    "    \n",
    "    def predict_all(self, docs):\n",
    "        res = []\n",
    "        for doc_num, doc in enumerate(docs):\n",
    "            prediction = self.predict(doc)            \n",
    "            res.append((doc.doc_id, doc.is_class, doc.url, prediction))\n",
    "        return res\n",
    "    \n",
    "    def train(self, docs): \n",
    "        for doc_num, doc in enumerate(docs):\n",
    "            doc_words = []\n",
    "            for word in doc.words:\n",
    "                if len(word) < 2 or len(word) > 25 or word.isdecimal():\n",
    "                    continue\n",
    "                else:\n",
    "                    doc_words.append(word)\n",
    "            if doc.is_class:\n",
    "                doc_words = ' '.join(doc_words)\n",
    "                for grams in ngrams(doc_words, self.n):\n",
    "                    word = ''.join(grams)\n",
    "                    self.bad_words[word] += 1\n",
    "            else:\n",
    "                doc_words = ' '.join(doc_words)\n",
    "                for grams in ngrams(doc_words, self.n):\n",
    "                    word = ''.join(grams)\n",
    "                    self.good_words[word] += 1\n",
    "            \n",
    "        porn_list = [' порн', 'порно', 'орно ', ' фото', ' секс', 'фото ', ' виде', 'видео',\n",
    "                     'секс ', 'идео ', 'смотр']\n",
    "        dict_cleaner(self.good_words, f_min=1, f_max=7000)\n",
    "        dict_cleaner(self.bad_words, f_min=1, f_max=7000, porn=True, porn_words=porn_list)\n",
    "        \n",
    "        for word in self.good_words:\n",
    "            if word in self.bad_words:\n",
    "                log = math.log(self.bad_words[word]/self.good_words[word])\n",
    "                if log < -1.0 or log > 1.0:\n",
    "                    self.log_dict[word] = log\n",
    "        trace(doc_num, 1)"
   ]
  },
  {
   "cell_type": "code",
   "execution_count": 20,
   "metadata": {},
   "outputs": [],
   "source": [
    "class Classifier:\n",
    "    \n",
    "    def __init__(self, stemmer=None, fmin=1, fmax=2000, logmin=0.5, logmax=-0.5):\n",
    "        self.bad_words = Counter()\n",
    "        self.good_words = Counter()\n",
    "        self.log_dict = Counter()\n",
    "        self.stemmer = stemmer\n",
    "        self.fmin = fmin\n",
    "        self.fmax = fmax\n",
    "        self.logmin = logmin\n",
    "        self.logmax = logmax\n",
    "\n",
    "    def predict(self, doc):\n",
    "        sign = 0.0\n",
    "        length = 0.0\n",
    "        bad_words_freq = 0.0\n",
    "        good_words_freq = 0.0\n",
    "        word_counts = len(doc.words)\n",
    "        for word in doc.words:\n",
    "            if self.stemmer is not None:\n",
    "                word = self.stemmer.stem(word)\n",
    "            if word in self.log_dict:\n",
    "                sign += self.log_dict[word]\n",
    "                length += 1.0\n",
    "            elif word in self.bad_words:\n",
    "                bad_words_freq += 1\n",
    "            elif word in self.good_words:\n",
    "                good_words_freq += 1\n",
    "        if length > 0.0:\n",
    "            return sign / length + math.log((bad_words_freq + 1e-6) / (good_words_freq + 1e-6)) / word_counts\n",
    "        return math.log((bad_words_freq + 1e-6) / (good_words_freq + 1e-6)) / word_counts\n",
    "    \n",
    "    def predict_all(self, docs):\n",
    "        res = []\n",
    "        for doc_num, doc in enumerate(docs):\n",
    "            prediction = self.predict(doc)            \n",
    "            res.append((doc.doc_id, doc.is_class, doc.url, prediction))\n",
    "        return res\n",
    "    \n",
    "    def train(self, docs): \n",
    "        for doc_num, doc in enumerate(docs):\n",
    "            if doc.is_class:\n",
    "                for word in doc.words:\n",
    "                    if self.stemmer is not None:\n",
    "                        word = self.stemmer.stem(word)\n",
    "                    self.bad_words[word] += 1\n",
    "            else:\n",
    "                for word in doc.words:\n",
    "                    if self.stemmer is not None:\n",
    "                        word = self.stemmer.stem(word)\n",
    "                    self.good_words[word] += 1\n",
    "        \n",
    "        if self.stemmer is not None:\n",
    "            porn_list = ['порн', 'фот', 'секс', 'виде', 'девушк', 'бесплатн', 'онлайн', 'скача']\n",
    "            dict_cleaner(self.good_words, f_min=1, f_max=4000, min_len=1, max_len=25)\n",
    "            dict_cleaner(self.bad_words, f_min=1, f_max=3000, porn_words=porn_list,\n",
    "                         min_len=1, max_len=25, porn=True)\n",
    "        else:\n",
    "            porn_list = ['порно', 'секс', 'онлайн', 'видео', 'скачать', 'смотреть', 'бесплатно', \n",
    "                         'подробнее', 'грудь', 'возраст', 'девушки']\n",
    "            dict_cleaner(self.good_words, f_min=self.fmin, f_max=self.fmax, min_len=1, max_len=25)\n",
    "            dict_cleaner(self.bad_words, f_min=self.fmin, f_max=self.fmax, porn_words=porn_list,\n",
    "                         min_len=1, max_len=35, porn=True)\n",
    "\n",
    "        for word in self.good_words:\n",
    "            if word in self.bad_words:\n",
    "                log = math.log(self.bad_words[word]/self.good_words[word])\n",
    "                if log < self.logmax or log > self.logmin:\n",
    "                    self.log_dict[word] = log"
   ]
  },
  {
   "cell_type": "code",
   "execution_count": 69,
   "metadata": {},
   "outputs": [],
   "source": [
    "classifier = Classifier(logmin=0, logmax=0)\n",
    "classifier.train(train_docs)"
   ]
  },
  {
   "cell_type": "code",
   "execution_count": 70,
   "metadata": {},
   "outputs": [
    {
     "data": {
      "text/plain": [
       "2.5504535003065345"
      ]
     },
     "execution_count": 70,
     "metadata": {},
     "output_type": "execute_result"
    }
   ],
   "source": [
    "bad_test_words = ['порно', 'эротика', 'секс']\n",
    "classifier.predict(DocItem(0, 0, test_url , bad_test_words))"
   ]
  },
  {
   "cell_type": "markdown",
   "metadata": {},
   "source": [
    ":)"
   ]
  },
  {
   "cell_type": "code",
   "execution_count": 71,
   "metadata": {},
   "outputs": [
    {
     "data": {
      "text/plain": [
       "-1.9062986126450672"
      ]
     },
     "execution_count": 71,
     "metadata": {},
     "output_type": "execute_result"
    }
   ],
   "source": [
    "good_test_words = ['уют', 'чувста', 'счастье']\n",
    "classifier.predict(DocItem(0, 0, test_url , good_test_words))"
   ]
  },
  {
   "cell_type": "markdown",
   "metadata": {},
   "source": [
    ":)"
   ]
  },
  {
   "cell_type": "code",
   "execution_count": 72,
   "metadata": {},
   "outputs": [
    {
     "data": {
      "text/plain": [
       "1.5475792768458763"
      ]
     },
     "execution_count": 72,
     "metadata": {},
     "output_type": "execute_result"
    }
   ],
   "source": [
    "good_test_words = ['уют', 'чувста', 'счастье', 'целомудрие']\n",
    "classifier.predict(DocItem(0, 0, test_url , good_test_words))"
   ]
  },
  {
   "cell_type": "markdown",
   "metadata": {},
   "source": [
    ":("
   ]
  },
  {
   "cell_type": "markdown",
   "metadata": {},
   "source": [
    "### Самые порнушные слова"
   ]
  },
  {
   "cell_type": "code",
   "execution_count": 73,
   "metadata": {},
   "outputs": [
    {
     "data": {
      "text/plain": [
       "[('anal', 6.364750756851911),\n",
       " ('xrest', 6.008813185442595),\n",
       " ('duration', 5.921578419643816),\n",
       " ('tube', 5.902633333401366),\n",
       " ('gjhyj', 5.884714177161102),\n",
       " ('tits', 5.820082930352362),\n",
       " ('dbltj', 5.703782474656201),\n",
       " ('рірёрґрµрѕ', 5.666426688112432),\n",
       " ('mom', 5.655991810819852),\n",
       " ('porn', 5.506008813303325),\n",
       " ('киску', 5.44673737166631),\n",
       " ('отписал', 5.44673737166631),\n",
       " ('рґрµрісѓс', 5.43372200355424),\n",
       " ('blonde', 5.278114659230517),\n",
       " ('страпон', 5.278114659230517),\n",
       " ('киски', 5.236441962829949),\n",
       " ('amateur', 5.159055299214529),\n",
       " ('ujkst', 5.081404364984463),\n",
       " ('mic', 5.075173815233827),\n",
       " ('crfxfnm', 5.062595033026967),\n",
       " ('votes', 4.997212273764115),\n",
       " ('хентай', 4.990432586778736),\n",
       " ('киска', 4.948759890378168),\n",
       " ('анальное', 4.919980925828125),\n",
       " ('дрочит', 4.897839799950911),\n",
       " ('фистинг', 4.859812404361672),\n",
       " ('jykfqy', 4.859812404361672),\n",
       " ('попка', 4.852030263919617),\n",
       " ('posting', 4.804021044733257),\n",
       " ('hjnbrf', 4.770684624465665)]"
      ]
     },
     "execution_count": 73,
     "metadata": {},
     "output_type": "execute_result"
    }
   ],
   "source": [
    "classifier.log_dict.most_common()[:30]"
   ]
  },
  {
   "cell_type": "markdown",
   "metadata": {},
   "source": [
    "### Самые не порнушные слова"
   ]
  },
  {
   "cell_type": "code",
   "execution_count": 74,
   "metadata": {},
   "outputs": [
    {
     "data": {
      "text/plain": [
       "[('схемы', -6.2766434893416445),\n",
       " ('александрович', -6.230481447578482),\n",
       " ('pattern', -6.2166061010848646),\n",
       " ('shading', -6.194405391104672),\n",
       " ('delphi', -6.0342845442909105),\n",
       " ('жилищных', -5.950642552587727),\n",
       " ('тур', -5.8916442118257715),\n",
       " ('оао', -5.887491956725004),\n",
       " ('оборудование', -5.860786223465865),\n",
       " ('топлива', -5.840641657373398),\n",
       " ('предприятий', -5.814130531825066),\n",
       " ('кв', -5.765191102784844),\n",
       " ('як', -5.736572297479192),\n",
       " ('помещений', -5.728475087246572),\n",
       " ('транспортного', -5.676753802268282),\n",
       " ('постоянная', -5.600272098286537),\n",
       " ('тотчас', -5.583496308781699),\n",
       " ('характеристики', -5.53338948872752),\n",
       " ('toyota', -5.5254529391317835),\n",
       " ('бо', -5.493061443340548),\n",
       " ('акций', -5.488937726156687),\n",
       " ('строительства', -5.44673737166631),\n",
       " ('дорожного', -5.420534999272286),\n",
       " ('ě', -5.3981627015177525),\n",
       " ('степан', -5.382198850528739),\n",
       " ('пазл', -5.37989735354046),\n",
       " ('путевки', -5.37989735354046),\n",
       " ('карт', -5.356586274672012),\n",
       " ('фигаро', -5.351858133476067),\n",
       " ('проекты', -5.351858133476067)]"
      ]
     },
     "execution_count": 74,
     "metadata": {},
     "output_type": "execute_result"
    }
   ],
   "source": [
    "classifier.log_dict.most_common()[::-1][:30]"
   ]
  },
  {
   "cell_type": "markdown",
   "metadata": {},
   "source": [
    "### Нейтральные слова"
   ]
  },
  {
   "cell_type": "code",
   "execution_count": 76,
   "metadata": {},
   "outputs": [
    {
     "name": "stdout",
     "output_type": "stream",
     "text": [
      "сѓрѕр 0.024692612590371414\n",
      "files 0.024292692569044483\n",
      "рёрѕр 0.024097551579060524\n",
      "first 0.023810648693718607\n",
      "point 0.02298951822469878\n",
      "комментарий 0.02050398019770737\n",
      "up 0.020101179321087303\n",
      "регистрации 0.01898791224469138\n",
      "женские 0.014493007302566824\n",
      "мама 0.00800004266707637\n",
      "more 0.005420067469339113\n",
      "мужчин 0.003252035386377316\n",
      "рё -0.004152255100767307\n",
      "обои -0.009259325412796712\n",
      "rus -0.010362787035546547\n",
      "екатерина -0.011173300598125189\n",
      "лучшие -0.012642393415176468\n",
      "любит -0.013605652055778598\n",
      "ждут -0.015504186535965199\n",
      "решила -0.019231361927887644\n",
      "просьба -0.019802627296179754\n",
      "коллекцию -0.019802627296179754\n",
      "жены -0.02247285585205863\n",
      "средний -0.02247285585205863\n",
      "little -0.02298951822469872\n",
      "пыль -0.02409755157906053\n",
      "any -0.02469261259037152\n"
     ]
    }
   ],
   "source": [
    "threshold = 0.025\n",
    "\n",
    "for word, score in classifier.log_dict.most_common():\n",
    "    if score < threshold and score > -threshold:\n",
    "        print(word, score)"
   ]
  },
  {
   "cell_type": "markdown",
   "metadata": {},
   "source": [
    "## Оптимизируем параметры предиктора"
   ]
  },
  {
   "cell_type": "code",
   "execution_count": 450,
   "metadata": {},
   "outputs": [],
   "source": [
    "from tqdm import tqdm"
   ]
  },
  {
   "cell_type": "code",
   "execution_count": 454,
   "metadata": {},
   "outputs": [
    {
     "name": "stderr",
     "output_type": "stream",
     "text": [
      "\n",
      "\n",
      "\n",
      "\n",
      "\n",
      "  0%|          | 0/3 [00:00<?, ?it/s]\u001b[A\u001b[A\u001b[A\u001b[A\u001b[A"
     ]
    },
    {
     "name": "stdout",
     "output_type": "stream",
     "text": [
      "count 1 from 882\n",
      "0.9384064004323284\n",
      "count 2 from 882\n",
      "0.9393928629679564\n",
      "count 3 from 882\n",
      "0.9398071681691971\n",
      "count 4 from 882\n",
      "0.9403709338531034\n",
      "count 5 from 882\n",
      "0.9407147167238336\n",
      "count 9 from 882\n",
      "0.9409348742370748\n",
      "count 10 from 882\n",
      "0.9420200495039728\n",
      "count 13 from 882\n",
      "0.9424149729517568\n",
      "count 14 from 882\n",
      "0.9428789856152195\n",
      "count 15 from 882\n",
      "0.9446012667793391\n",
      "count 16 from 882\n",
      "0.9453059016759693\n",
      "count 17 from 882\n",
      "0.945403948169406\n",
      "count 18 from 882\n",
      "0.9461056745916514\n",
      "count 22 from 882\n",
      "0.9468219209170776\n",
      "count 23 from 882\n",
      "0.9475061079353149\n",
      "count 24 from 882\n",
      "0.9482789430150449\n",
      "count 34 from 882\n",
      "0.9487533992019579\n",
      "count 40 from 882\n",
      "0.9502863150072896\n",
      "count 41 from 882\n",
      "0.9507337992895029\n",
      "count 82 from 882\n",
      "0.9516003028942852\n",
      "count 83 from 882\n",
      "0.9516885741964556\n",
      "count 84 from 882\n",
      "0.9517031102950793\n",
      "count 125 from 882\n",
      "0.9522422756780078\n"
     ]
    },
    {
     "name": "stderr",
     "output_type": "stream",
     "text": [
      "\n",
      "\n",
      "\n",
      "\n",
      "\n",
      " 33%|███▎      | 1/3 [32:16<1:04:32, 1936.30s/it]\u001b[A\u001b[A\u001b[A\u001b[A\u001b[A\n",
      "\n",
      "\n",
      "\n",
      "\n",
      " 67%|██████▋   | 2/3 [1:04:28<32:14, 1934.94s/it]\u001b[A\u001b[A\u001b[A\u001b[A\u001b[A\n",
      "\n",
      "\n",
      "\n",
      "\n",
      "100%|██████████| 3/3 [1:37:10<00:00, 1943.17s/it]\u001b[A\u001b[A\u001b[A\u001b[A\u001b[A\n",
      "\n",
      "\n",
      "\n",
      "\n",
      "\u001b[A\u001b[A\u001b[A\u001b[A\u001b[A"
     ]
    }
   ],
   "source": [
    "fmins = [0, 1, 2]\n",
    "fmaxs = [1000, 1500, 2000, 2500, 3000, 3500, 4000]\n",
    "logmins = [0, 0.2, 0.4, 0.6, 0.8, 1.0, 1.2]\n",
    "logmaxs = [-0.2, -0.4, -0.6, -0.8, -1.0, -1.2]\n",
    "\n",
    "max_avgF1 = -1\n",
    "best_values = None\n",
    "\n",
    "min_th = -2\n",
    "max_th = 2\n",
    "step = 0.05\n",
    "count = 1\n",
    "max_count = len(fmins) * len(fmaxs) * len(logmins) * len(logmaxs)\n",
    "for fmin in tqdm(fmins):\n",
    "    for fmax in fmaxs:\n",
    "        for logmin in logmins:\n",
    "            for logmax in logmaxs:\n",
    "                classifier = Classifier(fmin=fmin, fmax=fmax, logmin=logmin, logmax=logmax)\n",
    "                classifier.train(train_docs)\n",
    "                avgF1 = plot_results(train_docs, min_threshold=min_th,\n",
    "                                     max_threshold=max_th, step=step)\n",
    "                if max_avgF1 < np.max(avgF1):\n",
    "                    print('count {} from {}'.format(count, max_count))\n",
    "                    max_avgF1 = np.max(avgF1)\n",
    "                    best_values = max_avgF1, fmin, fmax, logmin, logmax\n",
    "                    print(max_avgF1)\n",
    "                count += 1"
   ]
  },
  {
   "cell_type": "code",
   "execution_count": 455,
   "metadata": {},
   "outputs": [
    {
     "data": {
      "text/plain": [
       "(0.9522422756780078, 0, 2000, 1.2, -1.0)"
      ]
     },
     "execution_count": 455,
     "metadata": {},
     "output_type": "execute_result"
    }
   ],
   "source": [
    "best_values"
   ]
  },
  {
   "cell_type": "markdown",
   "metadata": {},
   "source": [
    "## Рисуем графики"
   ]
  },
  {
   "cell_type": "code",
   "execution_count": 457,
   "metadata": {
    "scrolled": false
   },
   "outputs": [
    {
     "data": {
      "image/png": "[encoded data removed]",
      "text/plain": [
       "<Figure size 720x360 with 1 Axes>"
      ]
     },
     "metadata": {},
     "output_type": "display_data"
    },
    {
     "data": {
      "image/png": "[encoded data removed]",
      "text/plain": [
       "<Figure size 720x360 with 1 Axes>"
      ]
     },
     "metadata": {},
     "output_type": "display_data"
    }
   ],
   "source": [
    "min_th = -1.5\n",
    "max_th = -1.0\n",
    "step = 0.05\n",
    "\n",
    "_, fmin, fmax, logmin, logmax = best_values\n",
    "\n",
    "classifier = Classifier(fmin=fmin, fmax=fmax, logmin=logmin, logmax=logmax)\n",
    "classifier.train(train_docs)\n",
    "\n",
    "avgF1 = plot_results(train_docs, min_threshold=min_th, max_threshold=max_th, \n",
    "                     step=step, plot=True)"
   ]
  },
  {
   "cell_type": "markdown",
   "metadata": {},
   "source": [
    "## Делаем submit"
   ]
  },
  {
   "cell_type": "code",
   "execution_count": 458,
   "metadata": {},
   "outputs": [],
   "source": [
    "TEST_DATA_FILE  = 'kaggle_test_data_tab.csv.gz'\n",
    "\n",
    "test_docs = load_csv(TEST_DATA_FILE)\n",
    "\n",
    "threshold = -1.3\n",
    "\n",
    "with open('my_submission.csv', 'w', newline='') as fout:\n",
    "    fout.write('Id,Prediction\\n')\n",
    "    for item in classifier.predict_all(test_docs):\n",
    "        prediction =  1 if item[3] > threshold else 0\n",
    "        fout.write('{},{}\\n'.format(item[0], prediction))"
   ]
  }
 ],
 "metadata": {
  "anaconda-cloud": {},
  "kernelspec": {
   "display_name": "Python 3",
   "language": "python",
   "name": "python3"
  },
  "language_info": {
   "codemirror_mode": {
    "name": "ipython",
    "version": 3
   },
   "file_extension": ".py",
   "mimetype": "text/x-python",
   "name": "python",
   "nbconvert_exporter": "python",
   "pygments_lexer": "ipython3",
   "version": "3.6.5"
  }
 },
 "nbformat": 4,
 "nbformat_minor": 1
}
